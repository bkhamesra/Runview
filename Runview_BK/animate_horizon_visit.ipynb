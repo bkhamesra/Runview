{
 "cells": [
  {
   "cell_type": "code",
   "execution_count": 1,
   "metadata": {
    "collapsed": true
   },
   "outputs": [],
   "source": [
    "#Incomplete - Currently only creates two visit files with required data\n",
    "#Add code to generate images from visit and stitch into video"
   ]
  },
  {
   "cell_type": "code",
   "execution_count": 2,
   "metadata": {
    "collapsed": true
   },
   "outputs": [],
   "source": [
    "import os, glob\n",
    "import numpy as np"
   ]
  },
  {
   "cell_type": "code",
   "execution_count": 3,
   "metadata": {
    "collapsed": false
   },
   "outputs": [],
   "source": [
    "    os.chdir('/localdata2/bkhamesra3/simulations/Cygnus/BBH/Puncture_Dynamics/VaryingHorizonRadius/fh_qc0_q1_a0_1M_M100_l11/fh_qc0_q1_a0_1M_M100_l11-all/HorizonData/')"
   ]
  },
  {
   "cell_type": "code",
   "execution_count": 4,
   "metadata": {
    "collapsed": true
   },
   "outputs": [],
   "source": [
    "%%bash\n",
    "\n",
    "for i in h.t*;\n",
    "do cat $i|grep -v \\#| grep -v ^$ > $i-parsed.txt;\n",
    "done;"
   ]
  },
  {
   "cell_type": "code",
   "execution_count": 5,
   "metadata": {
    "collapsed": false
   },
   "outputs": [],
   "source": [
    "bbh12_visit = open(\"BBH12.visit\",'w')\n",
    "bbh3_visit = open(\"BBH3.visit\",'w')\n",
    "\n",
    "hdr1 = \"!NBLOCKS 1 \\n\"\n",
    "hdr2 = \"!NBLOCKS 2 \\n\"\n",
    "\n",
    "bbh12_visit.write(hdr2)\n",
    "bbh12_visit.close()\n",
    "\n",
    "bbh3_visit.write(hdr1)\n",
    "bbh3_visit.close()\n",
    "\n",
    "\n",
    "hrzn1_files = sorted(glob.glob('h.*.ah1.gp-parsed.txt'))\n",
    "hrzn2_files = sorted(glob.glob('h.*.ah2.gp-parsed.txt'))\n",
    "hrzn3_files = sorted(glob.glob('h.*.ah3.gp-parsed.txt'))\n",
    "\n",
    "\n",
    "time_hrzn1 =  np.array([int((hrzn1_file.split('.')[1]).split('t')[1]) for hrzn1_file in hrzn1_files])\n",
    "time_hrzn2 =  np.array([int((hrzn2_file.split('.')[1]).split('t')[1]) for hrzn2_file in hrzn2_files])\n",
    "time_hrzn3 =  np.array([int((hrzn3_file.split('.')[1]).split('t')[1]) for hrzn3_file in hrzn3_files])\n",
    "\n",
    "bh_hrzn3 = {}\n",
    "for t, f in zip(time_hrzn3, hrzn3_files):\n",
    "    bh_hrzn3[str(t)] = f\n",
    "\n",
    "bh_hrzn2 = {}\n",
    "for t, f in zip(time_hrzn2, hrzn2_files):\n",
    "    bh_hrzn2[str(t)] = f\n",
    "\n",
    "bh_hrzn1 = {}\n",
    "for t, f in zip(time_hrzn1, hrzn1_files):\n",
    "    bh_hrzn1[str(t)] = f\n",
    "\n",
    "time_hrzn1 = np.sort(time_hrzn1)\n",
    "time_hrzn2 = np.sort(time_hrzn2)\n",
    "time_hrzn3 = np.sort(time_hrzn3)\n",
    "\n",
    "t_common = np.intersect1d(time_hrzn1, time_hrzn2)\n",
    "\n",
    "bbh12_visit = open(\"BBH12.visit\",'a')\n",
    "bbh3_visit = open(\"BBH3.visit\",'a')\n",
    "#bbh_visit = open(\"BBH.visit\", 'a')\n",
    "\n",
    "for t in t_common:\n",
    "    if t in time_hrzn3:\n",
    "        bbh3_visit.write(\"%s\\n\"%bh_hrzn3[str(t)])\n",
    "        bbh12_visit.write(\"%s\\n%s\\n\"%(bh_hrzn1[str(t)], bh_hrzn2[str(t)]))\n",
    "    #else:\n",
    "    #    bbh2_visit.write(\"%s\\n%s\\n\"%(bh_hrzn1[str(t)], bh_hrzn2[str(t)]))\n",
    "  \n",
    "#print np.shape(hrzn_files)\n",
    "   \n",
    "bbh12_visit.close()\n",
    "bbh3_visit.close()"
   ]
  },
  {
   "cell_type": "code",
   "execution_count": null,
   "metadata": {
    "collapsed": false
   },
   "outputs": [],
   "source": []
  },
  {
   "cell_type": "code",
   "execution_count": null,
   "metadata": {
    "collapsed": true
   },
   "outputs": [],
   "source": []
  },
  {
   "cell_type": "code",
   "execution_count": null,
   "metadata": {
    "collapsed": true
   },
   "outputs": [],
   "source": []
  }
 ],
 "metadata": {
  "kernelspec": {
   "display_name": "Python 2",
   "language": "python",
   "name": "python2"
  },
  "language_info": {
   "codemirror_mode": {
    "name": "ipython",
    "version": 2
   },
   "file_extension": ".py",
   "mimetype": "text/x-python",
   "name": "python",
   "nbconvert_exporter": "python",
   "pygments_lexer": "ipython2",
   "version": "2.7.11"
  }
 },
 "nbformat": 4,
 "nbformat_minor": 0
}
